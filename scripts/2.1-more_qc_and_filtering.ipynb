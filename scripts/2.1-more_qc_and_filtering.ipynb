{
 "cells": [
  {
   "cell_type": "markdown",
   "id": "aa06919f-21e2-4a7c-8f72-d66379623249",
   "metadata": {},
   "source": [
    "# 2.1 More QC and filtering\n",
    "\n",
    "**Inés Sentís**"
   ]
  },
  {
   "cell_type": "markdown",
   "id": "c00b8a20-72b4-4ca4-9438-2cba44f23997",
   "metadata": {},
   "source": [
    "Date of execution "
   ]
  },
  {
   "cell_type": "code",
   "execution_count": null,
   "id": "896150ee-f603-4903-8e0b-8f27699ae277",
   "metadata": {},
   "outputs": [],
   "source": [
    "Sys.Date()"
   ]
  },
  {
   "cell_type": "markdown",
   "id": "47f8b548-af38-48cd-8016-3f460784d599",
   "metadata": {},
   "source": [
    "## Introduction"
   ]
  },
  {
   "cell_type": "markdown",
   "id": "aa6186b5-f2b7-4705-b4ec-5273b3141f7c",
   "metadata": {},
   "source": [
    "Here we are going to perform some QC on the data itself. This report is following [Satija's Lab recomendations](https://satijalab.org/seurat/articles/pbmc3k_tutorial.html). The following QC metrics are well accepted QC cheks from single cell community. The final goal is to remove low-quality cells."
   ]
  },
  {
   "cell_type": "markdown",
   "id": "f9e17468-8cb7-40f3-a746-aa81123ffad3",
   "metadata": {},
   "source": [
    "## Libraries"
   ]
  },
  {
   "cell_type": "code",
   "execution_count": null,
   "id": "04dc9f49-4a9a-418a-8765-b61fa1f6ee9f",
   "metadata": {},
   "outputs": [],
   "source": [
    "suppressMessages(suppressWarnings({\n",
    "library(Seurat)\n",
    "library(ggpubr)\n",
    "library(tidyverse)\n",
    "library(here)\n",
    "library(glue)\n",
    "library(grid)\n",
    "library(gridExtra)\n",
    "library(reshape2)}))"
   ]
  },
  {
   "cell_type": "markdown",
   "id": "4e450a08-f51d-4c71-a996-4d8cf1d52be1",
   "metadata": {},
   "source": [
    "## Parameters"
   ]
  },
  {
   "cell_type": "code",
   "execution_count": null,
   "id": "4836dbcd-9e40-4e13-b479-7d95f0485ade",
   "metadata": {},
   "outputs": [],
   "source": [
    "subproj <- \"SCGRES_124_125\""
   ]
  },
  {
   "cell_type": "code",
   "execution_count": null,
   "id": "a370c2f5-7030-4028-961b-fbcb1b10b6f3",
   "metadata": {},
   "outputs": [],
   "source": [
    "source(here(glue(\"{subproj}/sc_analysis/misc/paths.R\")))\n",
    "source(here(\"utils/bin.R\"))"
   ]
  },
  {
   "cell_type": "markdown",
   "id": "26ffaa08-5dc1-447a-9600-7ee62968a7b9",
   "metadata": {},
   "source": [
    "## Load data"
   ]
  },
  {
   "cell_type": "code",
   "execution_count": null,
   "id": "310d7aa4-4ce8-4126-82c5-4e055c3d5421",
   "metadata": {},
   "outputs": [],
   "source": [
    "metadata <- read.csv(here(glue(\"{cellranger}/metadata.csv\")))"
   ]
  },
  {
   "cell_type": "code",
   "execution_count": null,
   "id": "78e1b62c-07a0-4e58-87dc-f5dacc453413",
   "metadata": {},
   "outputs": [],
   "source": [
    "head(metadata)"
   ]
  },
  {
   "cell_type": "code",
   "execution_count": null,
   "id": "e5d0b2b9-8f48-4388-8d15-45f043a7c29d",
   "metadata": {},
   "outputs": [],
   "source": [
    "list_objects <- purrr::map(list.dirs(path = here(glue(\"{cellranger}/jobs\")), full.names = FALSE, recursive = FALSE), function(lib){\n",
    "    if (!grepl(\"test\", lib)) {\n",
    "        print(lib)\n",
    "        info <- subset(metadata, type == \"cDNA\" & gem_id == lib)\n",
    "        data <- Read10X(data.dir=here(glue(\"{cellranger}/jobs/{lib}/{lib}/outs/per_sample_outs/{lib}/count/sample_filtered_feature_bc_matrix\")))\n",
    "        seurat_obj <- CreateSeuratObject(counts=data, project=subproj)\n",
    "        seurat_obj$sample_org <- lib\n",
    "        seurat_obj$timepoint <- info$timepoint\n",
    "        seurat_obj$replicate <- info$replicate\n",
    "        seurat_obj$sample_id <- paste(info$timepoint,  info$replicate, sep=\"_\")\n",
    "        seurat_obj$sample_id <- info$gem_id\n",
    "        seurat_obj\n",
    "    }\n",
    "})"
   ]
  },
  {
   "cell_type": "code",
   "execution_count": null,
   "id": "56dc385b-689f-458a-be97-94e99ddf071d",
   "metadata": {},
   "outputs": [],
   "source": [
    "list_objects <- Filter(function(x) !is.null(x), list_objects)"
   ]
  },
  {
   "cell_type": "code",
   "execution_count": null,
   "id": "8f118cab-469e-461b-8023-b6c220a146a2",
   "metadata": {},
   "outputs": [],
   "source": [
    "list_names <- lapply(list_objects, function(obj) {\n",
    "    if (unique(obj$timepoint) != \"T0\") {\n",
    "        paste(unique(obj$timepoint),unique(obj$replicate), sep='_')\n",
    "    }else{\n",
    "        name <- gsub(\"CC2269\",\"\", unique(obj$sample_org))\n",
    "        paste(unique(obj$timepoint),name, sep='_')\n",
    "    }\n",
    "})\n",
    "list_names"
   ]
  },
  {
   "cell_type": "code",
   "execution_count": null,
   "id": "98a6db62-7496-4bc3-996b-5899baa10a1f",
   "metadata": {},
   "outputs": [],
   "source": [
    "## SCGRES_124_125\n",
    "\n",
    "# list_names <- lapply(list_objects, function(obj) {\n",
    "#     unique(obj$sample_id)\n",
    "# })\n",
    "# list_names"
   ]
  },
  {
   "cell_type": "code",
   "execution_count": null,
   "id": "3cf86979-ff4a-4390-8568-13b433765fb4",
   "metadata": {},
   "outputs": [],
   "source": [
    "list_objects <- setNames(list_objects, list_names)"
   ]
  },
  {
   "cell_type": "markdown",
   "id": "fda693d4-a29f-4368-be50-15da8622a8a8",
   "metadata": {},
   "source": [
    "## Apply straightforward actions"
   ]
  },
  {
   "cell_type": "markdown",
   "id": "20d858d0-a05f-4cab-b605-8f44838b2c06",
   "metadata": {},
   "source": [
    "#### Remove empty genes"
   ]
  },
  {
   "cell_type": "code",
   "execution_count": null,
   "id": "324e3923-a26a-47db-a0ae-2724085987d9",
   "metadata": {},
   "outputs": [],
   "source": [
    "list_objects <- lapply(list_objects, function(obj) {\n",
    "  \n",
    "  print(table(rowSums(as.matrix(obj[['RNA']]@counts)) == 0))\n",
    "  \n",
    "  keep_genes <- data.frame(rowSums(as.matrix(obj[['RNA']]@counts)) != 0)\n",
    "  colnames(keep_genes) <- \"logical\"\n",
    "  keep_genes <- subset(keep_genes, logical==TRUE)\n",
    "  obj[['RNA']]@data <- obj[['RNA']]@data[rownames(keep_genes), ]\n",
    "  return(obj)\n",
    "})"
   ]
  },
  {
   "cell_type": "code",
   "execution_count": null,
   "id": "6bb5f974-167e-4332-923d-079fcda73712",
   "metadata": {},
   "outputs": [],
   "source": [
    "list_objects <- lapply(list_objects, function(obj) {\n",
    "  # compute % of mitocondrial genes in cells\n",
    "  obj[[\"pct_mt\"]] <- PercentageFeatureSet(obj,pattern = \"^MT-\")\n",
    "  \n",
    "  # compute % of ribosomal genes in cells\n",
    "  obj[[\"percent.ribo\"]] <- PercentageFeatureSet(\n",
    "  object = obj,\n",
    "  pattern = \"^RPL|^RPS\")\n",
    "  return(obj)\n",
    "})"
   ]
  },
  {
   "cell_type": "code",
   "execution_count": null,
   "id": "d297f5fe-68ba-4c91-a1b9-20b4e52e64ba",
   "metadata": {},
   "outputs": [],
   "source": [
    "list_objects <- setNames(list_objects, list_names)"
   ]
  },
  {
   "cell_type": "markdown",
   "id": "69b58797-fa00-4874-8122-1fb0815121b7",
   "metadata": {},
   "source": [
    "## Define some thresholds according to distribution"
   ]
  },
  {
   "cell_type": "code",
   "execution_count": null,
   "id": "4f2ebede-aca5-4a8c-8859-87f22121a24b",
   "metadata": {},
   "outputs": [],
   "source": [
    "# ver <- \"2022-04-1\" \n",
    "# orientative filters\n",
    "max_lib_size <- 80000\n",
    "min_lib_size <- 1000 #if a sample has a good coverage (>=minCov), then don't set a lower thresold for nCount, it's already pretty good.\n",
    "max_n_genes <- 50000\n",
    "min_n_genes <- 200\n",
    "max_pct_mt <- 20\n",
    "max_pct_ribo <- 50\n",
    "\n",
    "filters <- data.frame(sample=character(),\n",
    "  min_lib_size=numeric(),\n",
    "  max_lib_size=numeric(),\n",
    "  min_n_genes=numeric(),\n",
    "  max_n_genes = numeric())\n",
    "\n",
    "for (i in seq_along(list_objects)) {\n",
    "  print(i)\n",
    "  id <-names(list_objects)[i]\n",
    "  obj <- list_objects[[id]]\n",
    "\n",
    "  if (min(obj$nCount_RNA)>=min_lib_size){\n",
    "      min_lib_size=min(obj$nCount_RNA)\n",
    "    }else{\n",
    "      min_lib_size=quantile(obj$nCount_RNA, prob=c(0.05))  \n",
    "  }\n",
    "  max_lib_size=quantile(obj$nCount_RNA, prob=0.99) \n",
    "  min_n_genes=quantile(obj$nFeature_RNA, prob=0.10)\n",
    "  max_n_genes=quantile(obj$nFeature_RNA, prob=0.99) \n",
    "  \n",
    "  \n",
    "  df <- data.frame(sample=character(),\n",
    "  min_lib_size=numeric(),\n",
    "  max_lib_size=numeric(),\n",
    "  min_n_genes=numeric(),\n",
    "  max_n_genes = numeric())\n",
    "  \n",
    "  df[nrow(df) + 1,] <- c(as.character(id), as.numeric(min_lib_size[[1]]), \n",
    "              as.numeric(max_lib_size[[1]]), as.numeric(min_n_genes[[1]]), \n",
    "              as.numeric(max_n_genes[[1]]))\n",
    "  \n",
    "  filters <- rbind(filters,df)\n",
    "}"
   ]
  },
  {
   "cell_type": "code",
   "execution_count": null,
   "id": "5618aaf2-e401-4386-9893-1dd2d48fd51e",
   "metadata": {},
   "outputs": [],
   "source": [
    "# manually adjust them if need it\n",
    "filters$min_lib_size <- 1000"
   ]
  },
  {
   "cell_type": "markdown",
   "id": "ff02a575-dea3-4375-b50b-89b7d882d87f",
   "metadata": {},
   "source": [
    "## RNA assay sanity checks"
   ]
  },
  {
   "cell_type": "markdown",
   "id": "cb19c9b7-aa3f-42a2-9ffa-9bc0666adc92",
   "metadata": {},
   "source": [
    "### Library size"
   ]
  },
  {
   "cell_type": "code",
   "execution_count": null,
   "id": "3c231f7e-1f9c-497d-ad93-5368e3f89a3a",
   "metadata": {},
   "outputs": [],
   "source": [
    "options(repr.plot.width = 15, repr.plot.height = 5, warn=-1,verbose = FALSE)\n",
    "\n",
    "suppressMessages(lapply(seq_along(list_objects), function(i) {\n",
    "  id <- names(list_objects[i])\n",
    "  obj <- list_objects[[i]]\n",
    "  \n",
    "  df<- filters %>% dplyr::filter(sample == id) \n",
    "  df$max_lib_size = as.numeric(df$max_lib_size)\n",
    "  df$min_lib_size = as.numeric(df$min_lib_size)\n",
    "  df$min_n_genes = as.numeric(df$min_n_genes)\n",
    "  df$max_n_genes = as.numeric(df$max_n_genes)\n",
    "  \n",
    "  vlp <- VlnPlot(\n",
    "  object = obj,\n",
    "  features = \"nCount_RNA\",\n",
    "  pt.size = 0.1) +  \n",
    "  scale_y_log10() + \n",
    "  geom_hline(yintercept = df$max_lib_size, linetype='dashed', col = 'black') +\n",
    "  geom_hline(yintercept = df$min_lib_size, linetype = \"dashed\", color = \"black\") +\n",
    "  theme(legend.position = 'none')\n",
    "  \n",
    "  hist <- plot_histogram_qc(df = obj@meta.data,\n",
    "                          x = \"nCount_RNA\", \n",
    "                          x_lab = \"Library Size (log10(total UMI))\")\n",
    "  hist1 <- hist +\n",
    "      scale_x_log10() +\n",
    "      geom_vline(xintercept = df$max_lib_size, \n",
    "                linetype = \"dashed\", color = \"black\") +\n",
    "      geom_vline(xintercept = df$min_lib_size, \n",
    "                linetype = \"dashed\", color = \"black\")\n",
    "  \n",
    "  hist2 <- hist +\n",
    "      scale_x_continuous(limits = c(0, 2000)) +\n",
    "      xlab(\"Library Size (total UMI)\") +\n",
    "      theme_pubr() +\n",
    "      geom_vline(xintercept = df$min_lib_size, linetype = \"dashed\", color = \"black\")\n",
    "  \n",
    "  grid.arrange(vlp, hist1, hist2, ncol=3, nrow =1,\n",
    "               top = textGrob(id, gp=gpar(fontsize=20,font=3)))\n",
    "}))\n"
   ]
  },
  {
   "cell_type": "markdown",
   "id": "840c25f8-8575-44f4-a539-999d912abfaa",
   "metadata": {},
   "source": [
    "### Number of detected genes"
   ]
  },
  {
   "cell_type": "code",
   "execution_count": null,
   "id": "e2d92218-0272-45dd-b4fd-9d71515ecd78",
   "metadata": {},
   "outputs": [],
   "source": [
    "suppressMessages(lapply(seq_along(list_objects), function(i) {\n",
    "  \n",
    "  id <- names(list_objects[i])\n",
    "  obj <- list_objects[[i]]\n",
    "  \n",
    "  df <- filters %>% dplyr::filter(sample == id) \n",
    "  df$max_lib_size = as.numeric(df$max_lib_size)\n",
    "  df$min_lib_size = as.numeric(df$min_lib_size)\n",
    "  df$min_n_genes = as.numeric(df$min_n_genes)\n",
    "  df$max_n_genes = as.numeric(df$max_n_genes)\n",
    "  \n",
    "  vlp <- VlnPlot(\n",
    "  object = obj,\n",
    "  features = \"nFeature_RNA\",\n",
    "  pt.size = 0.1) +  \n",
    "  scale_y_log10() +\n",
    "  geom_hline(yintercept = df$max_n_genes, linetype='dashed', col = 'black') +\n",
    "  geom_hline(yintercept = df$min_n_genes, linetype = \"dashed\", color = \"black\") +\n",
    "  theme(legend.position = 'none')\n",
    "  \n",
    "  hist1 <- plot_histogram_qc(df = obj@meta.data,\n",
    "                            x = \"nFeature_RNA\", \n",
    "                            x_lab = \"Number of Detected Genes\") +\n",
    "           geom_vline(xintercept = df$max_n_genes, linetype='dashed', col = 'black') +\n",
    "           geom_vline(xintercept = df$min_n_genes, \n",
    "                linetype = \"dashed\", color = \"black\") \n",
    "  \n",
    "  hist2 <- hist1 +\n",
    "      scale_x_continuous(limits = c(0, 5000)) +\n",
    "      geom_vline(xintercept = df$min_n_genes, linetype = \"dashed\", color = \"black\")\n",
    "  \n",
    "  grid.arrange(vlp, hist1, hist2, ncol=3, nrow =1,\n",
    "               top = textGrob(id, gp=gpar(fontsize=20,font=3)))\n",
    "}))"
   ]
  },
  {
   "cell_type": "markdown",
   "id": "0e909fbe-149d-4259-a570-bec6e66adce3",
   "metadata": {},
   "source": [
    "## Fraction of mitochondrial expression"
   ]
  },
  {
   "cell_type": "code",
   "execution_count": null,
   "id": "874f4879-27fa-4ee4-b0e6-09d8ad81e013",
   "metadata": {},
   "outputs": [],
   "source": [
    "options(repr.plot.width = 15, repr.plot.height = 10, warn=-1,verbose = FALSE)\n",
    "list_plots <- lapply(seq_along(list_objects), function(i) {\n",
    "  id <- names(list_objects[i])\n",
    "  obj <- list_objects[[i]]\n",
    "  plt <- obj@meta.data %>%\n",
    "  plot_histogram_qc(x = \"pct_mt\", x_lab = \"% Mitochondrial Expression\") +\n",
    "  geom_vline(xintercept = max_pct_mt, linetype = \"dashed\", color = \"black\") +\n",
    "  scale_x_continuous(limits = c(0, 100)) +\n",
    "  ggtitle(id) + \n",
    "  theme(plot.title = element_text(hjust = 0.5))\n",
    "    \n",
    "  return(plt)\n",
    "})\n",
    "cowplot::plot_grid(plotlist = list_plots,\n",
    "                   align = \"hv\",\n",
    "                   axis = \"trbl\")"
   ]
  },
  {
   "cell_type": "markdown",
   "id": "fa5fae0a-c741-432c-9e6b-38842dc326a1",
   "metadata": {},
   "source": [
    "### Library size vs library complexity colored by percentate of mitocondrial genes"
   ]
  },
  {
   "cell_type": "code",
   "execution_count": null,
   "id": "e5ca7af6-82a9-4d0a-a877-a552a5810ad3",
   "metadata": {},
   "outputs": [],
   "source": [
    "options(repr.plot.width = 15, repr.plot.height = 10, warn=-1,verbose = FALSE)\n",
    "list_plots <- lapply(seq_along(list_objects), function(i) {\n",
    "  id <- names(list_objects[i])\n",
    "  obj <- list_objects[[i]]\n",
    "  plt <- ggplot(obj@meta.data, aes(x = nCount_RNA, y = nFeature_RNA, color = pct_mt)) +\n",
    "  geom_point() +\n",
    "  ggtitle(id) + \n",
    "  theme(plot.title = element_text(hjust = 0.5))\n",
    "  \n",
    "  return(plt)\n",
    "})\n",
    "  cowplot::plot_grid(plotlist = list_plots,\n",
    "                   align = \"hv\",\n",
    "                   axis = \"trbl\")"
   ]
  },
  {
   "cell_type": "markdown",
   "id": "0cbf5875-5767-417a-b2d1-79e6437e822f",
   "metadata": {},
   "source": [
    "#### Fraction of ribosomal expression"
   ]
  },
  {
   "cell_type": "code",
   "execution_count": null,
   "id": "74c5ccc9-3416-469f-a8e8-5a73c83e831d",
   "metadata": {},
   "outputs": [],
   "source": [
    "list_plots <- lapply(seq_along(list_objects), function(i) {\n",
    "  id <- names(list_objects[i])\n",
    "  obj <- list_objects[[i]]\n",
    "  plt <- obj@meta.data %>%\n",
    "  plot_histogram_qc(x = \"percent.ribo\", x_lab = \"% Ribosomal Expression\") +\n",
    "  geom_vline(xintercept = 60, linetype = \"dashed\", color = \"black\") +\n",
    "  scale_x_continuous(limits = c(0, 100)) +\n",
    "  ggtitle(id) + \n",
    "  theme(plot.title = element_text(hjust = 0.5))\n",
    "    \n",
    "  return(plt)\n",
    "})\n",
    "cowplot::plot_grid(plotlist = list_plots,\n",
    "                   align = \"hv\",\n",
    "                   axis = \"trbl\")"
   ]
  },
  {
   "cell_type": "markdown",
   "id": "b9b20dab-fe38-4e93-a3b9-e50f35b2eba9",
   "metadata": {},
   "source": [
    "### Final application of filters"
   ]
  },
  {
   "cell_type": "code",
   "execution_count": null,
   "id": "0cb30ffe-a51c-4ce7-af93-e8d02e239056",
   "metadata": {},
   "outputs": [],
   "source": [
    "filtering_QC <- function(seurat_obj, id) {\n",
    "  \n",
    "  df <- filters %>% dplyr::filter(sample == id)\n",
    "  print(df)\n",
    "  df$max_lib_size = as.numeric(df$max_lib_size)\n",
    "  df$min_lib_size = as.numeric(df$min_lib_size)\n",
    "  df$min_n_genes = as.numeric(df$min_n_genes)\n",
    "  df$max_n_genes = as.numeric(df$max_n_genes)\n",
    "  \n",
    "  seurat_obj <- subset(\n",
    "    x = seurat_obj, \n",
    "    pct_mt < max_pct_mt &\n",
    "    nCount_RNA > df$min_lib_size &\n",
    "    nCount_RNA < df$max_lib_size &\n",
    "    nFeature_RNA < df$max_n_genes &\n",
    "    nFeature_RNA > df$min_n_genes)\n",
    "   \n",
    "  return(seurat_obj)\n",
    "}\n",
    "list_objects <- lapply(seq_along(list_objects), function(i) {\n",
    "  id <- names(list_objects[i])\n",
    "  obj <- list_objects[[i]]\n",
    "  obj <- filtering_QC(obj, id)\n",
    "  return(obj)\n",
    "})"
   ]
  },
  {
   "cell_type": "code",
   "execution_count": null,
   "id": "be875630-bdbb-471b-b374-01c49e20ea98",
   "metadata": {},
   "outputs": [],
   "source": [
    "list_objects <- setNames(list_objects, list_names)"
   ]
  },
  {
   "cell_type": "markdown",
   "id": "f684e6fa-c6a7-4a71-9c5c-2b2a71bcda8c",
   "metadata": {},
   "source": [
    "## Save clean objects"
   ]
  },
  {
   "cell_type": "code",
   "execution_count": null,
   "id": "d54c4e65-e15d-4733-9388-39e335b6fcd0",
   "metadata": {},
   "outputs": [],
   "source": [
    "saveRDS(list_objects, here::here(glue::glue(\"{qc}/{robj_dir}/clean_list_objects.rds\")))\n",
    "print(paste(\"Number of total filtered cells:\", sum(melt(lapply(list_objects, ncol))$value)))"
   ]
  },
  {
   "cell_type": "markdown",
   "id": "19160ca5-9647-4d75-9f8f-18ce7d46717e",
   "metadata": {},
   "source": [
    "##  Session info"
   ]
  },
  {
   "cell_type": "code",
   "execution_count": null,
   "id": "4bf940e4-204a-4bed-aa67-08de948a7052",
   "metadata": {},
   "outputs": [],
   "source": [
    "sessionInfo()"
   ]
  }
 ],
 "metadata": {
  "kernelspec": {
   "display_name": "R",
   "language": "R",
   "name": "ir"
  },
  "language_info": {
   "codemirror_mode": "r",
   "file_extension": ".r",
   "mimetype": "text/x-r-source",
   "name": "R",
   "pygments_lexer": "r",
   "version": "4.1.1"
  }
 },
 "nbformat": 4,
 "nbformat_minor": 5
}
