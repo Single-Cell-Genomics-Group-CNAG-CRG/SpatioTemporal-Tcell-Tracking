{
 "cells": [
  {
   "cell_type": "markdown",
   "id": "c8457519-890d-4c86-b054-d8a8eed03052",
   "metadata": {},
   "source": [
    "# 2.0-QC CellRanger mapping\n",
    "\n",
    "**Inés Sentís**"
   ]
  },
  {
   "cell_type": "markdown",
   "id": "a46cc18a-bb49-449b-b872-d55d19e3acf9",
   "metadata": {},
   "source": [
    "Date of execution "
   ]
  },
  {
   "cell_type": "code",
   "execution_count": null,
   "id": "20d35fab-1a41-47f6-a875-0ac3abce6bb8",
   "metadata": {},
   "outputs": [],
   "source": [
    "Sys.Date()"
   ]
  },
  {
   "cell_type": "markdown",
   "id": "cd453a26-447a-434c-9e80-2819210fb4be",
   "metadata": {},
   "source": [
    "## Introduction"
   ]
  },
  {
   "cell_type": "markdown",
   "id": "6993fc30-cb4b-4b92-bbbb-c44e4d30dfa3",
   "metadata": {},
   "source": [
    "\n",
    "The objective of this notebook is to perform a basic quality control of the mapping performed with [CellRanger](https://support.10xgenomics.com/single-cell-vdj/software/pipelines/latest/using/multi)\n",
    "\n",
    "This QC report is originally from [@PaulaNietoG](https://github.com/PaulaNietoG/CSF/commits?author=PaulaNietoG)"
   ]
  },
  {
   "cell_type": "markdown",
   "id": "a13a39a3-0360-4ef0-9be2-a58d5cba2848",
   "metadata": {},
   "source": [
    "## Libraries"
   ]
  },
  {
   "cell_type": "code",
   "execution_count": null,
   "id": "3e898661-1805-419b-b43a-305a987783cf",
   "metadata": {},
   "outputs": [],
   "source": [
    "suppressMessages(suppressWarnings({\n",
    "library(tidyverse)\n",
    "library(gt)\n",
    "library(ggpubr)\n",
    "library(ggrepel)\n",
    "library(here)\n",
    "library(glue)\n",
    "library(magrittr)\n",
    "library(RColorBrewer)}))"
   ]
  },
  {
   "cell_type": "markdown",
   "id": "dd41c0f9-07b4-4900-9b91-9a4deaad11a7",
   "metadata": {},
   "source": [
    "## Parameters"
   ]
  },
  {
   "cell_type": "code",
   "execution_count": null,
   "id": "1b630c7e-f76f-41e7-a714-2267da1f76e1",
   "metadata": {},
   "outputs": [],
   "source": [
    "source(here::here(\"SCGRES_124_125/sc_analysis/misc/paths.R\"))\n",
    "#source(here::here(\"SCGRES_119_120/sc_analysis/misc/paths.R\"))\n",
    "#source(here::here(\"SCGRES_105_106/sc_analysis/misc/paths.R\"))\n",
    "#source(here::here(\"SCGRES_99_100/sc_analysis/misc/paths.R\"))\n",
    "#source(here::here(\"SCGRES_83_84/sc_analysis/misc/paths.R\"))\n",
    "\n",
    "source(here::here(\"utils/bin.R\"))\n",
    "\n",
    "\"{qc}/{plt_dir}\" %>%\n",
    "  glue::glue() %>%\n",
    "  here::here() %>%\n",
    "  dir.create(path = .,\n",
    "           showWarnings = FALSE,\n",
    "           recursive = TRUE)\n",
    "\n",
    "\"{qc}/{robj_dir}\" %>%\n",
    "  glue::glue() %>%\n",
    "  here::here() %>%\n",
    "  dir.create(path = .,\n",
    "           showWarnings = FALSE,\n",
    "           recursive = TRUE)"
   ]
  },
  {
   "cell_type": "markdown",
   "id": "e0d7b253-c6e1-449d-97af-6d5acc3ce312",
   "metadata": {},
   "source": [
    "## Functions"
   ]
  },
  {
   "cell_type": "code",
   "execution_count": null,
   "id": "bcbab459-a9f2-4fda-9504-ef0bc77d7ab1",
   "metadata": {},
   "outputs": [],
   "source": [
    "# display gt tables in Jupyter (from here https://stackoverflow.com/questions/75033756/gt-table-in-jupyter)\n",
    "gts <- function(gt_table){\n",
    "   gt:::as.tags.gt_tbl(gt_table)\n",
    "}"
   ]
  },
  {
   "cell_type": "markdown",
   "id": "93290c94-13f4-4364-9b7d-3436f90f2e83",
   "metadata": {},
   "source": [
    "## Load"
   ]
  },
  {
   "cell_type": "code",
   "execution_count": null,
   "id": "7cb55692-526d-4cf9-b75d-23c5ae84d96e",
   "metadata": {},
   "outputs": [],
   "source": [
    "subproject <- c(\"SCGRES_124_125\")"
   ]
  },
  {
   "cell_type": "code",
   "execution_count": null,
   "id": "44086f41-f44d-46a7-9867-5e3f897fb6ce",
   "metadata": {},
   "outputs": [],
   "source": [
    "metadata <- read.csv(here(glue(\"{cellranger}/metadata.csv\")))"
   ]
  },
  {
   "cell_type": "code",
   "execution_count": null,
   "id": "26d77d47-c5d7-4a24-8995-a6d5bb0c3b93",
   "metadata": {},
   "outputs": [],
   "source": [
    "cellranger_metrics <-purrr::map(list.dirs(path = here(glue(\"{cellranger}/jobs\")), full.names = FALSE, recursive = FALSE), function(lib){\n",
    "    if (!grepl(\"test\", lib)) {\n",
    "        print(lib)\n",
    "        cr <- read.csv(here(glue(\"{cellranger}/jobs/{lib}/{lib}/outs/per_sample_outs/{lib}/metrics_summary.csv\")), dec = c(\".\", \",\"), sep=',')\n",
    "        cr$Subproject <- subproject\n",
    "        cr$GemID <- lib\n",
    "        cr\n",
    "    }\n",
    "})\n",
    "# merge all datasets\n",
    "cellranger_metrics <- bind_rows(cellranger_metrics)"
   ]
  },
  {
   "cell_type": "code",
   "execution_count": null,
   "id": "ec4d809c-7885-44b7-84a7-ab7c61576388",
   "metadata": {},
   "outputs": [],
   "source": [
    "# fix columns\n",
    "cellranger_metrics$Metric.Value <- as.numeric(str_remove_all(cellranger_metrics$Metric.Value, \"%|,\"))"
   ]
  },
  {
   "cell_type": "code",
   "execution_count": null,
   "id": "afb74322-2729-497e-8b33-5745652fc21c",
   "metadata": {},
   "outputs": [],
   "source": [
    "head(cellranger_metrics)"
   ]
  },
  {
   "cell_type": "markdown",
   "id": "e2f517a6-a16f-4eaf-bfd6-38cdf5d7aea8",
   "metadata": {},
   "source": [
    "### GEx"
   ]
  },
  {
   "cell_type": "code",
   "execution_count": null,
   "id": "500c9175-9d50-4c04-af2a-2f7293ea64c9",
   "metadata": {},
   "outputs": [],
   "source": [
    "cellranger_metrics_gex_df <- cellranger_metrics[cellranger_metrics$Library.Type == \"Gene Expression\", c(\"Metric.Name\", \"Metric.Value\", \"Subproject\", \"GemID\")] %>%\n",
    "  unique() %>% \n",
    "  pivot_wider(names_from = \"Metric.Name\", values_from = \"Metric.Value\", id_cols = c(\"Subproject\", \"GemID\"))"
   ]
  },
  {
   "cell_type": "code",
   "execution_count": null,
   "id": "327edc87-5647-4fe5-9482-d73f15cfde6c",
   "metadata": {},
   "outputs": [],
   "source": [
    "colnames(cellranger_metrics_gex_df) <- str_replace_all(colnames(cellranger_metrics_gex_df), pattern = \" \", replacement = \"_\")"
   ]
  },
  {
   "cell_type": "code",
   "execution_count": null,
   "id": "7dd5210c-2922-43eb-9f29-6a948d6e163c",
   "metadata": {},
   "outputs": [],
   "source": [
    "cellranger_metrics_gex_df %>% \n",
    "  select(c(1:3, 5:9)) %>% \n",
    "  rename_with(~str_c(str_replace_all(., \"_\", \" \"))) %>%\n",
    "  gt() %>%\n",
    "  fmt_number(columns = \"Number of reads\", scale_by = 1 / 1E6, pattern = \"{x}M\") %>% \n",
    "  tab_header(\n",
    "    title = md(\"**GEX QC metrics**\"),\n",
    "    subtitle = (\"cellranger v 7.0.0\")\n",
    "  ) %>% \n",
    "  #Apply new style to all column headers\n",
    "   tab_style(\n",
    "     locations = cells_column_labels(columns = everything()),\n",
    "     style     = list(\n",
    "       #Give a thick border below\n",
    "       cell_borders(sides = \"bottom\", weight = px(3)),\n",
    "       #Make text bold\n",
    "       cell_text(weight = \"bold\")\n",
    "     )\n",
    "   ) %>% \n",
    "   #Apply different style to the title\n",
    "   tab_style(\n",
    "     locations = cells_title(groups = \"title\"),\n",
    "     style     = list(\n",
    "       cell_text(weight = \"bold\", size = 24)\n",
    "     )\n",
    "   ) %>% gts"
   ]
  },
  {
   "cell_type": "markdown",
   "id": "5d27afe1-cc37-4c96-9ece-526d27205fe8",
   "metadata": {},
   "source": [
    "#### Mapping QC"
   ]
  },
  {
   "cell_type": "code",
   "execution_count": null,
   "id": "6ac419e4-c047-4846-b060-0602b6dc005b",
   "metadata": {},
   "outputs": [],
   "source": [
    "options(repr.plot.width = 10, repr.plot.height = 16)\n",
    "qc_map_vars <- c(\"Confidently_mapped_to_genome\",\n",
    "                 \"Confidently_mapped_to_intergenic_regions\",\n",
    "                 \"Confidently_mapped_to_intronic_regions\",\n",
    "                 \"Confidently_mapped_to_exonic_regions\",\n",
    "                 \"Confidently_mapped_antisense\",\n",
    "                 \"Confidently_mapped_to_transcriptome\")\n",
    "\n",
    "gg_qc_map <- purrr::map(qc_map_vars, function(var) {\n",
    "  print(var)\n",
    "  ggplot(cellranger_metrics_gex_df, aes_string(x = \"GemID\", y = var, fill = \"GemID\")) +\n",
    "    geom_col() +\n",
    "    # facet_grid(~subproject, scales = \"free_x\", space = \"free\", switch = \"x\") +\n",
    "    theme_bw() +\n",
    "    scale_fill_brewer(palette = \"Dark2\") +\n",
    "    ylim(0, 100) +\n",
    "    labs(x = \"Libraries (GEM IDs)\",\n",
    "         y = str_c(str_replace_all(var, \"_\", \" \"), \" (%)\")) +\n",
    "    theme(axis.title = element_text(size = 14),\n",
    "          axis.text = element_text(size = 10),\n",
    "          axis.text.x = element_text(hjust = 1, angle = 90, size = 14),\n",
    "          axis.text.y = element_text(size = 14),\n",
    "          strip.placement = \"outside\",\n",
    "          strip.background = element_rect(colour = NA),\n",
    "          legend.position = \"none\") +\n",
    "    scale_fill_manual(values=as.vector(pals::polychrome()))\n",
    "})\n",
    "\n",
    "patchwork::wrap_plots(gg_qc_map, ncol = 2)"
   ]
  },
  {
   "cell_type": "markdown",
   "id": "e90dc926-600d-4511-848d-446ae462fb05",
   "metadata": {},
   "source": [
    "#### Sequencing saturation depth"
   ]
  },
  {
   "cell_type": "code",
   "execution_count": null,
   "id": "a1710012-4801-46e1-92c2-0af05efbe781",
   "metadata": {},
   "outputs": [],
   "source": [
    "options(repr.plot.width = 10, repr.plot.height = 16)\n",
    "gg_lib_size <- cellranger_metrics_gex_df %>%\n",
    "  mutate(Number_of_Reads_mil = Number_of_reads / 1000000) %>%\n",
    "  ggplot(aes(x = GemID, y = Number_of_Reads_mil, fill = GemID)) +\n",
    "  geom_bar(stat = \"identity\") +\n",
    "  theme_bw() +\n",
    "  labs(x = \"Libraries (GEM IDs)\", y = \"Library size (in millions)\") +\n",
    "  theme(axis.title = element_text(size = 18),\n",
    "          axis.text = element_text(size = 10),\n",
    "          axis.text.x = element_text(hjust = 1, angle = 90, size = 14),\n",
    "          axis.text.y = element_text(size = 18),\n",
    "          strip.placement = \"outside\",\n",
    "          strip.background = element_rect(colour = NA),\n",
    "          legend.position = \"none\") +\n",
    "    scale_fill_manual(values=as.vector(pals::polychrome()))\n",
    "\n",
    "gg_qc_seq_sat <- cellranger_metrics_gex_df %>%\n",
    "  mutate(Sequencing_Saturation_perc = Sequencing_saturation / 100,\n",
    "         Mean_Reads_per_Cell_tho = Mean_reads_per_cell / 1000) %>%\n",
    "  ggplot(aes(x = Mean_Reads_per_Cell_tho,\n",
    "             y = Sequencing_Saturation_perc, color = GemID)) +\n",
    "  geom_point() +\n",
    "  theme_bw() +\n",
    "  ylim(0, 1) +\n",
    "  geom_text_repel(aes(label = GemID), size = 4) +\n",
    "  labs(x = \"Mean Reads per Cell\\n(in thousands)\", y = \"Sequencing Saturation\") +\n",
    "  theme(axis.title = element_text(size = 18),\n",
    "          axis.text = element_text(size = 10),\n",
    "          axis.text.x = element_text(hjust = 1, angle = 90, size = 14),\n",
    "          axis.text.y = element_text(size = 18),\n",
    "          strip.placement = \"outside\",\n",
    "          strip.background = element_rect(colour = NA),\n",
    "          legend.position = \"none\") +\n",
    "    scale_color_manual(values=as.vector(pals::polychrome()))\n",
    "\n",
    "gg_qc_seq_depth_cell <- cellranger_metrics_gex_df %>%\n",
    "  mutate(Mean_Reads_per_Cell_tho = Mean_reads_per_cell / 1000) %>%\n",
    "  ggplot(aes(x = Mean_Reads_per_Cell_tho,\n",
    "             y = Median_genes_per_cell, color = GemID)) +\n",
    "  geom_point() +\n",
    "  theme_bw() +\n",
    "  geom_text_repel(aes(label = GemID), size = 4) +\n",
    "  labs(x = \"Mean Reads per Cell\\n(in thousands)\", y = \"Mean Detected Genes per Cell\") +\n",
    "  theme(axis.title = element_text(size = 18),\n",
    "          axis.text = element_text(size = 10),\n",
    "          axis.text.x = element_text(hjust = 1, angle = 90, size = 14),\n",
    "          axis.text.y = element_text(size = 18),\n",
    "          strip.placement = \"outside\",\n",
    "          strip.background = element_rect(colour = NA),\n",
    "          legend.position = \"none\") +\n",
    "    scale_color_manual(values=as.vector(pals::polychrome()))\n",
    "\n",
    "gg_qc_seq_depth <- cellranger_metrics_gex_df %>%\n",
    "  mutate(Number_of_Reads_mil = Number_of_reads / 1000000) %>%\n",
    "  ggplot(aes(x = Number_of_Reads_mil,\n",
    "             y = Total_genes_detected, color = GemID)) +\n",
    "  geom_point() +\n",
    "  theme_bw() +\n",
    "  geom_text_repel(aes(label = GemID), size = 4) +\n",
    "  labs(x = \"Number of Reads\\n(in millions)\", y = \"Total Genes Detected\") +\n",
    "  theme(axis.title = element_text(size = 18),\n",
    "          axis.text = element_text(size = 10),\n",
    "          axis.text.x = element_text(hjust = 1, angle = 90, size = 14),\n",
    "          axis.text.y = element_text(size = 18),\n",
    "          strip.placement = \"outside\",\n",
    "          strip.background = element_rect(colour = NA),\n",
    "          legend.position = \"none\") +\n",
    "    scale_color_manual(values=as.vector(pals::polychrome()))\n",
    "\n",
    "patchwork::wrap_plots(list(gg_lib_size, gg_qc_seq_sat, \n",
    "                   gg_qc_seq_depth_cell, gg_qc_seq_depth), \n",
    "                   ncol = 2)"
   ]
  },
  {
   "cell_type": "markdown",
   "id": "6a5b0954-89be-42f5-938f-fc48d60d0499",
   "metadata": {},
   "source": [
    "### VDJ-T QC"
   ]
  },
  {
   "cell_type": "code",
   "execution_count": null,
   "id": "01ff5ee5-a051-47db-a67c-0402072b4071",
   "metadata": {},
   "outputs": [],
   "source": [
    "cellranger_metrics_vdjT_df <- cellranger_metrics[cellranger_metrics$Library.Type == \"VDJ T\", c(\"Metric.Name\", \"Metric.Value\", \"Subproject\", \"GemID\")] %>%\n",
    "  unique() %>% \n",
    "  pivot_wider(names_from = \"Metric.Name\", values_from = \"Metric.Value\", id_cols = c(\"Subproject\", \"GemID\"))"
   ]
  },
  {
   "cell_type": "code",
   "execution_count": null,
   "id": "44cd3034-3e53-4fb7-9f54-da231b28d99f",
   "metadata": {},
   "outputs": [],
   "source": [
    "colnames(cellranger_metrics_vdjT_df) <- str_replace_all(colnames(cellranger_metrics_vdjT_df), pattern = \" \", replacement = \"_\")\n",
    "colnames(cellranger_metrics_vdjT_df) <- str_replace_all(colnames(cellranger_metrics_vdjT_df), pattern = \"\\\\(\", replacement = \"_\")\n",
    "colnames(cellranger_metrics_vdjT_df) <- str_replace_all(colnames(cellranger_metrics_vdjT_df), pattern = \"\\\\)\", replacement = \"_\")"
   ]
  },
  {
   "cell_type": "code",
   "execution_count": null,
   "id": "e717e6e1-669a-4161-aa0a-73152e590505",
   "metadata": {},
   "outputs": [],
   "source": [
    "col_names <-c('Subproject','GemID','Number_of_reads','Estimated_number_of_cells',\n",
    "              'Fraction_reads_in_cells','Mean_reads_per_cell',\n",
    "              'Reads_mapped_to_any_V_D_J_gene','Cells_with_productive_V-J_spanning_pair')"
   ]
  },
  {
   "cell_type": "code",
   "execution_count": null,
   "id": "3f8191e4-17a8-4dd6-83c9-95caa6734abf",
   "metadata": {},
   "outputs": [],
   "source": [
    "cellranger_metrics_vdjT_df %>% \n",
    "  select(all_of(col_names)) %>% \n",
    "  rename_with(~str_c(str_replace_all(., \"_\", \" \"))) %>% \n",
    "  gt() %>%\n",
    "  fmt_number(columns = \"Mean reads per cell\", scale_by = 1 / 1E6, pattern = \"{x}M\") %>% \n",
    "  tab_header(\n",
    "    title = md(\"**VDJ-T QC metrics**\"),\n",
    "    subtitle = (\"cellranger v 7.0.0\")\n",
    "  ) %>% \n",
    "  #Apply new style to all column headers\n",
    "   tab_style(\n",
    "     locations = cells_column_labels(columns = everything()),\n",
    "     style     = list(\n",
    "       #Give a thick border below\n",
    "       cell_borders(sides = \"bottom\", weight = px(3)),\n",
    "       #Make text bold\n",
    "       cell_text(weight = \"bold\")\n",
    "     )\n",
    "   ) %>% \n",
    "   #Apply different style to the title\n",
    "   tab_style(\n",
    "     locations = cells_title(groups = \"title\"),\n",
    "     style     = list(\n",
    "       cell_text(weight = \"bold\", size = 24)\n",
    "     )\n",
    "   ) %>% gts"
   ]
  },
  {
   "cell_type": "markdown",
   "id": "a22d679f-1b7c-4f7b-9567-d3890a480b2d",
   "metadata": {},
   "source": [
    "#### Mapping QC"
   ]
  },
  {
   "cell_type": "code",
   "execution_count": null,
   "id": "9b4beee9-e5dd-4ead-8ff2-13da4aa98ef1",
   "metadata": {},
   "outputs": [],
   "source": [
    "options(repr.plot.width = 15, repr.plot.height = 8)\n",
    "qc_map_vars <- c(\"Reads_mapped_to_any_V_D_J_gene\",\n",
    "                 \"Reads_mapped_to_TRA\",\n",
    "                 \"Reads_mapped_to_TRB\")\n",
    "\n",
    "gg_qc_map <- purrr::map(qc_map_vars, function(var) {\n",
    "  ggplot(cellranger_metrics_vdjT_df, aes_string(x = \"GemID\", y = var, fill = \"GemID\")) +\n",
    "    geom_col() +\n",
    "    theme_bw() +\n",
    "    ylim(0, 100) +\n",
    "    labs(x = \"Libraries (GEM IDs)\",\n",
    "         y = str_c(str_replace_all(var, \"_\", \" \"), \" (%)\")) +\n",
    "    theme(axis.title = element_text(size = 18),\n",
    "          axis.text = element_text(size = 10),\n",
    "          axis.text.x = element_text(hjust = 1, angle = 90, size = 14),\n",
    "          axis.text.y = element_text(size = 18),\n",
    "          strip.placement = \"outside\",\n",
    "          strip.background = element_rect(colour = NA),\n",
    "          legend.position = \"none\") +\n",
    "    scale_fill_manual(values=as.vector(pals::polychrome())) \n",
    "})\n",
    "patchwork::wrap_plots(gg_qc_map, nrow = 1)"
   ]
  },
  {
   "cell_type": "markdown",
   "id": "143ebfd6-1646-426e-a121-03024828002e",
   "metadata": {},
   "source": [
    "#### V(D)J Expression"
   ]
  },
  {
   "cell_type": "markdown",
   "id": "00cbfbc9-4b40-432c-96c7-a53a5fac9b3c",
   "metadata": {},
   "source": [
    "Here, we will assess the median number of UMIs assigned to a TRA/TRB contig per cell. Low values for any of the two parameters can indicate cells with extremely low TRA/TRB expression or poor cell quality, among others."
   ]
  },
  {
   "cell_type": "code",
   "execution_count": null,
   "id": "d29ce708-248d-4009-ac5d-ebcb2dfc6455",
   "metadata": {},
   "outputs": [],
   "source": [
    "cellranger_metrics_vdjT_df[, c(\"GemID\", \n",
    "                              \"Median_TRA_UMIs_per_Cell\", \n",
    "                              \"Median_TRB_UMIs_per_Cell\")] %>% \n",
    "  gt() %>%\n",
    "  tab_header(\n",
    "    title = md(\"**VDJ-T expression**\"),\n",
    "    subtitle = (\"cellranger v 7.0.0\")\n",
    "  ) %>% \n",
    "  #Apply new style to all column headers\n",
    "   tab_style(\n",
    "     locations = cells_column_labels(columns = everything()),\n",
    "     style     = list(\n",
    "       #Give a thick border below\n",
    "       cell_borders(sides = \"bottom\", weight = px(3)),\n",
    "       #Make text bold\n",
    "       cell_text(weight = \"bold\")\n",
    "     )\n",
    "   ) %>% \n",
    "   #Apply different style to the title\n",
    "   tab_style(\n",
    "     locations = cells_title(groups = \"title\"),\n",
    "     style     = list(\n",
    "       cell_text(weight = \"bold\", size = 24)\n",
    "     )\n",
    "   )%>% gts"
   ]
  },
  {
   "cell_type": "markdown",
   "id": "bfb330b6-0850-47c0-afa4-3426e2d8d760",
   "metadata": {},
   "source": [
    "#### V(D)J Annotation"
   ]
  },
  {
   "cell_type": "markdown",
   "id": "56eac4b1-5e3c-425e-bfe1-f8314b2d4e36",
   "metadata": {},
   "source": [
    "Now, we will check the V(D)J annotation for the studied samples. To better interpret the obtained results, we will consider the information given in the cellranger web summary file. We will assess the fraction of cell-associated barcodes (with at least...), that are the following ones:\n",
    "  \n",
    "  * Cells With TRA/TRB Contig: one TRA/TRB contig annotated as a full or partial V(D)J gene.\n",
    "\n",
    "* Cells With CDR3-annotated TRA/TRB Contig: one TRA/TRB contig where a CDR3 was detected.\n",
    "\n",
    "* Cells With Productive TRA/TRB Contig: one contig that spans the 5' end of the V region to the 3' end of the J region for TRA/TRB, has a start codon in the expected part of the V sequence, has an in-frame CDR3, and has no stop codons in the aligned V-J region.\n",
    "\n",
    "* Cells With Productive V-J Spanning Pair: one productive contig for each chain of the receptor pair. As well as the correspondent the number of cells with productive V-J Spanning Pair.\n",
    "\n",
    "For all thre previous parameters, low values can indicate poor cell quality, low yield from the RT reaction, poor specificity of the V(D)J enrichment. Moreover, we will also check:\n",
    "  \n",
    "  * Paired Clonotype Diversit Effective diversity of the paired clonotypes. It is computed as the Inverse Simpson Index of the clonotype frequencies. A value of 1 indicates a minimally diverse sample - only one distinct clonotype was detected, whereas a value equal to the estimated number of cells indicates a maximally diverse sample."
   ]
  },
  {
   "cell_type": "code",
   "execution_count": null,
   "id": "6cade21a-2cac-48d4-b6ce-53ac2055ae09",
   "metadata": {},
   "outputs": [],
   "source": [
    "col_names <- c('GemID','Estimated_number_of_cells','Cells_with_productive_V-J_spanning_pair',\n",
    "              'Number_of_cells_with_productive_V-J_spanning_pair','Paired_clonotype_diversity',\n",
    "              'Cells_with_productive_TRB_contig','Cells_with_productive_TRA_contig')"
   ]
  },
  {
   "cell_type": "code",
   "execution_count": null,
   "id": "81bb4204-14f7-4074-98d9-c8cd9ae76a98",
   "metadata": {},
   "outputs": [],
   "source": [
    "cellranger_metrics_vdjT_df %>% \n",
    "  select(all_of(col_names)) %>% \n",
    "  gt() %>%\n",
    "  tab_header(\n",
    "    title = md(\"**V(D)J annotation**\"),\n",
    "    subtitle = (\"cellranger v6.0.1\")\n",
    "  ) %>%\n",
    "  cols_label(\n",
    "    GemID = md(\"**GEM ID**\"),\n",
    "    Estimated_number_of_cells = md(\"**Estimated Number of Recovered Cells**\"),\n",
    "    `Number_of_cells_with_productive_V-J_spanning_pair` = md(\"Cells\"),\n",
    "    `Cells_with_productive_V-J_spanning_pair` = md(\"Fraction\"),\n",
    "    Paired_clonotype_diversity = md(\"**Paired Clonotype Diversity**\"),\n",
    "    Cells_with_productive_TRA_contig = md(\"TRA\"),\n",
    "    Cells_with_productive_TRB_contig = md(\"TRB\"),\n",
    "  ) %>% \n",
    "  tab_spanner(\n",
    "    label = md(\"**Productive contig**\"),\n",
    "    columns = vars(\n",
    "      Cells_with_productive_TRA_contig,\n",
    "      Cells_with_productive_TRB_contig)\n",
    "  )   %>% \n",
    "  tab_spanner(\n",
    "    label = md(\"**Productive V-J Spanning Pair**\"),\n",
    "    columns = vars(\n",
    "      `Cells_with_productive_V-J_spanning_pair`,\n",
    "      `Number_of_cells_with_productive_V-J_spanning_pair`)\n",
    "  ) %>% gts"
   ]
  },
  {
   "cell_type": "markdown",
   "id": "0cfff685-2918-4090-8043-797c924a874d",
   "metadata": {},
   "source": [
    "## Data overview"
   ]
  },
  {
   "cell_type": "code",
   "execution_count": null,
   "id": "0297fb6f-6711-4d33-b41d-63a334ed8f55",
   "metadata": {},
   "outputs": [],
   "source": [
    "# Print loaded data\n",
    "print(\"Libraries metadata\")\n",
    "metadata\n",
    "print(\"GEX QC summary table\")\n",
    "cellranger_metrics_gex_df\n",
    "print(\"VDJ-T QC summary table\")\n",
    "cellranger_metrics_vdjT_df"
   ]
  },
  {
   "cell_type": "markdown",
   "id": "f48235f5-c998-4025-9c23-36dbeb90cb08",
   "metadata": {},
   "source": [
    "# Session Information"
   ]
  },
  {
   "cell_type": "code",
   "execution_count": null,
   "id": "0e562626-ab70-4b5a-b4c8-219f966f10d4",
   "metadata": {},
   "outputs": [],
   "source": [
    "sessionInfo()"
   ]
  }
 ],
 "metadata": {
  "kernelspec": {
   "display_name": "R",
   "language": "R",
   "name": "ir"
  },
  "language_info": {
   "codemirror_mode": "r",
   "file_extension": ".r",
   "mimetype": "text/x-r-source",
   "name": "R",
   "pygments_lexer": "r",
   "version": "4.1.1"
  }
 },
 "nbformat": 4,
 "nbformat_minor": 5
}
