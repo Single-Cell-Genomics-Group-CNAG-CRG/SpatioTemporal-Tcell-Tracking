{
 "cells": [
  {
   "cell_type": "markdown",
   "id": "6d6bcc21-d802-4f1c-92e3-3b60626eed7c",
   "metadata": {},
   "source": [
    "# 2.2-Doublet detection with Scrublet and merge\n",
    "\n",
    "**Inés Sentís**"
   ]
  },
  {
   "cell_type": "markdown",
   "id": "a534ac61-e076-4073-ab6a-6a15ec2a7042",
   "metadata": {},
   "source": [
    "Date of execution "
   ]
  },
  {
   "cell_type": "code",
   "execution_count": null,
   "id": "8f2aa02e-03f6-41d6-aebe-1705b366071a",
   "metadata": {},
   "outputs": [],
   "source": [
    "Sys.Date()"
   ]
  },
  {
   "cell_type": "markdown",
   "id": "fd60ca06-3ac2-4b6d-9333-71634a66f952",
   "metadata": {},
   "source": [
    "## Introduction"
   ]
  },
  {
   "cell_type": "markdown",
   "id": "fedc7742-6924-480c-804b-fe31e233100a",
   "metadata": {},
   "source": [
    "We are going run scrublet for doublet detection"
   ]
  },
  {
   "cell_type": "markdown",
   "id": "121df821-e3c5-4ef7-8d84-feefc5b22159",
   "metadata": {},
   "source": [
    "## Libraries"
   ]
  },
  {
   "cell_type": "code",
   "execution_count": null,
   "id": "77a60c1d-88a0-4106-9f55-b36fee8499a5",
   "metadata": {},
   "outputs": [],
   "source": [
    "suppressMessages(suppressWarnings({\n",
    "library(Seurat)\n",
    "library(tidyverse)\n",
    "library(rscrublet)\n",
    "library(Matrix)\n",
    "}))"
   ]
  },
  {
   "cell_type": "markdown",
   "id": "657bdb0f-70bb-453f-b421-1b25ac878c80",
   "metadata": {},
   "source": [
    "## Parameters"
   ]
  },
  {
   "cell_type": "code",
   "execution_count": null,
   "id": "56c6892b-8719-4ef6-912e-19e13ffb46bb",
   "metadata": {},
   "outputs": [],
   "source": [
    "source(here::here(\"SCGRES_99_100/sc_analysis/misc/paths.R\"))\n",
    "source(here::here(\"utils/bin.R\"))\n",
    "set.seed(0)"
   ]
  },
  {
   "cell_type": "markdown",
   "id": "7b805fab-122e-44d7-ba12-622ac595816f",
   "metadata": {},
   "source": [
    "## Load data"
   ]
  },
  {
   "cell_type": "code",
   "execution_count": null,
   "id": "ada083a3-bf93-4c82-a7d9-f703008e555c",
   "metadata": {},
   "outputs": [],
   "source": [
    "list_objects <- readRDS(here::here(glue::glue(\"{qc}/{robj_dir}/clean_list_objects.rds\")))"
   ]
  },
  {
   "cell_type": "markdown",
   "id": "2f1e715c-8d8b-4b64-b3b9-f2d8096b542d",
   "metadata": {},
   "source": [
    "## Run Scrublet"
   ]
  },
  {
   "cell_type": "code",
   "execution_count": null,
   "id": "24404006-8cdd-4f53-9d72-3e8889166f91",
   "metadata": {
    "scrolled": true,
    "tags": []
   },
   "outputs": [],
   "source": [
    "list_objects2 <- lapply(names(list_objects), function(id) {\n",
    "  print(id)\n",
    "  obj <- run_scrublet(list_objects[[id]])\n",
    "  file.rename('histogram of doublet scores.pdf', here::here(glue::glue(\"{qc}/{plt_dir}/2.2_histogram_scrublet_{id}.pdf\")))\n",
    "  return(obj)\n",
    "})\n",
    "list_objects2 <- setNames(list_objects2, names(list_objects))\n",
    "list_objects <- NULL"
   ]
  },
  {
   "cell_type": "markdown",
   "id": "902a5de3-c88c-4ab7-98b6-db72add9f7ed",
   "metadata": {},
   "source": [
    "## Save"
   ]
  },
  {
   "cell_type": "markdown",
   "id": "648075ac-3869-4f32-82d8-cd7b1749e728",
   "metadata": {},
   "source": [
    "Merge per timepoint"
   ]
  },
  {
   "cell_type": "code",
   "execution_count": null,
   "id": "3765a2f3-baf6-46b7-8f41-bd1bd6ad5b15",
   "metadata": {},
   "outputs": [],
   "source": [
    "saveRDS(list_objects2$T0_CD3pos_1, here::here(glue::glue(\"{qc}/{robj_dir}/clean_combined_object_T0_CD3pos.rds\")))\n",
    "saveRDS(list_objects2$T0_CD45neg_1, here::here(glue::glue(\"{qc}/{robj_dir}/clean_combined_object_T0_CD45neg.rds\")))\n",
    "saveRDS(list_objects2$T0_CD45pos_1, here::here(glue::glue(\"{qc}/{robj_dir}/clean_combined_object_T0_CD45pos.rds\")))\n",
    "saveRDS(list_objects2$T5_1, here::here(glue::glue(\"{qc}/{robj_dir}/clean_combined_object_T5.rds\")))"
   ]
  },
  {
   "cell_type": "markdown",
   "id": "90f45274-13f8-4f9f-82e8-232d26d96d48",
   "metadata": {},
   "source": [
    "## Session Information"
   ]
  },
  {
   "cell_type": "code",
   "execution_count": null,
   "id": "882d4cdb-eaf4-4c7b-8c6b-e26de7939aa3",
   "metadata": {},
   "outputs": [],
   "source": [
    "sessionInfo()"
   ]
  }
 ],
 "metadata": {
  "kernelspec": {
   "display_name": "R",
   "language": "R",
   "name": "ir"
  },
  "language_info": {
   "codemirror_mode": "r",
   "file_extension": ".r",
   "mimetype": "text/x-r-source",
   "name": "R",
   "pygments_lexer": "r",
   "version": "4.1.1"
  }
 },
 "nbformat": 4,
 "nbformat_minor": 5
}
