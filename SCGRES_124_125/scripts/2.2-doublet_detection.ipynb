{
 "cells": [
  {
   "cell_type": "markdown",
   "id": "58996603-8a37-43e3-8e3f-82009dbeec89",
   "metadata": {},
   "source": [
    "# 2.2-Doublet detection with Scrublet and merge\n",
    "\n",
    "**Inés Sentís**"
   ]
  },
  {
   "cell_type": "markdown",
   "id": "b1f64f6f-d262-488f-bc24-1be117d6bf04",
   "metadata": {},
   "source": [
    "Date of execution "
   ]
  },
  {
   "cell_type": "code",
   "execution_count": null,
   "id": "6cf723df-7415-4d64-8a13-05b433308b00",
   "metadata": {},
   "outputs": [],
   "source": [
    "Sys.Date()"
   ]
  },
  {
   "cell_type": "markdown",
   "id": "9f6eee94-f0bc-4952-9d63-05c7f773bcc8",
   "metadata": {},
   "source": [
    "## Introduction"
   ]
  },
  {
   "cell_type": "markdown",
   "id": "1b36fe50-e2ed-4d66-b850-7b2424fc36ac",
   "metadata": {},
   "source": [
    "We are going run scrublet for doublet detection"
   ]
  },
  {
   "cell_type": "markdown",
   "id": "0a36518e-0dbf-4fb2-b066-34d8d5a30f14",
   "metadata": {},
   "source": [
    "## Libraries"
   ]
  },
  {
   "cell_type": "code",
   "execution_count": null,
   "id": "9055d9a4-a171-46c9-b07f-74aefb46c7f9",
   "metadata": {},
   "outputs": [],
   "source": [
    "suppressMessages(suppressWarnings({\n",
    "library(Seurat)\n",
    "library(tidyverse)\n",
    "library(rscrublet)\n",
    "library(Matrix)\n",
    "}))"
   ]
  },
  {
   "cell_type": "markdown",
   "id": "382f9978-5726-41fb-9e6b-34f7eaa89551",
   "metadata": {},
   "source": [
    "## Parameters"
   ]
  },
  {
   "cell_type": "code",
   "execution_count": null,
   "id": "9b31a40b-479e-43ea-a0d2-68df64e91c32",
   "metadata": {},
   "outputs": [],
   "source": [
    "source(here::here(\"SCGRES_124_125/sc_analysis/misc/paths.R\"))\n",
    "source(here::here(\"utils/bin.R\"))\n",
    "set.seed(0)"
   ]
  },
  {
   "cell_type": "markdown",
   "id": "c69a5871-15b3-4861-a5a1-a4f51a97c7a9",
   "metadata": {},
   "source": [
    "## Load data"
   ]
  },
  {
   "cell_type": "code",
   "execution_count": null,
   "id": "85ce6d67-aac9-4c1b-92de-dfd544881c4f",
   "metadata": {},
   "outputs": [],
   "source": [
    "list_objects <- readRDS(here::here(glue::glue(\"{qc}/{robj_dir}/clean_list_objects.rds\")))"
   ]
  },
  {
   "cell_type": "markdown",
   "id": "1dd06fe8-934a-4c35-bab6-0558290e0e84",
   "metadata": {},
   "source": [
    "## Run Scrublet"
   ]
  },
  {
   "cell_type": "code",
   "execution_count": null,
   "id": "5c6f7bf9-b6ce-46f4-acce-64d360abc7eb",
   "metadata": {
    "scrolled": true,
    "tags": []
   },
   "outputs": [],
   "source": [
    "list_objects2 <- lapply(names(list_objects), function(id) {\n",
    "  print(id)\n",
    "  obj <- run_scrublet(list_objects[[id]])\n",
    "  file.rename('histogram of doublet scores.pdf', here::here(glue::glue(\"{qc}/{plt_dir}/2.2_histogram_scrublet_{id}.pdf\")))\n",
    "  return(obj)\n",
    "})\n",
    "list_objects2 <- setNames(list_objects2, names(list_objects))\n",
    "list_objects <- NULL"
   ]
  },
  {
   "cell_type": "markdown",
   "id": "1d7d2f84-1366-40bf-8ce7-c39788de4268",
   "metadata": {},
   "source": [
    "## Save"
   ]
  },
  {
   "cell_type": "code",
   "execution_count": null,
   "id": "6dc88ab9-b354-406d-9129-8f636b84c98b",
   "metadata": {},
   "outputs": [],
   "source": [
    "saveRDS(list_objects2$\"41BBctr\", here::here(glue::glue(\"{qc}/{robj_dir}/clean_combined_object_41BBctr.rds\")))\n",
    "saveRDS(list_objects2$\"41BBneg\", here::here(glue::glue(\"{qc}/{robj_dir}/clean_combined_object_41BBneg.rds\")))\n",
    "saveRDS(list_objects2$\"41BBpos\", here::here(glue::glue(\"{qc}/{robj_dir}/clean_combined_object_41BBpos.rds\")))"
   ]
  },
  {
   "cell_type": "markdown",
   "id": "035af5cf-3747-4daf-9f5e-6707f8da5f68",
   "metadata": {},
   "source": [
    "## Session Information"
   ]
  },
  {
   "cell_type": "code",
   "execution_count": null,
   "id": "699610e0-a572-4b44-80f2-3eae729381ba",
   "metadata": {},
   "outputs": [],
   "source": [
    "sessionInfo()"
   ]
  }
 ],
 "metadata": {
  "kernelspec": {
   "display_name": "R",
   "language": "R",
   "name": "ir"
  },
  "language_info": {
   "codemirror_mode": "r",
   "file_extension": ".r",
   "mimetype": "text/x-r-source",
   "name": "R",
   "pygments_lexer": "r",
   "version": "4.1.1"
  }
 },
 "nbformat": 4,
 "nbformat_minor": 5
}
